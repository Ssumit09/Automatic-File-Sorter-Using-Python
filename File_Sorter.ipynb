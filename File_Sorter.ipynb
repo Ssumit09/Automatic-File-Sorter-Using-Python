{
 "cells": [
  {
   "cell_type": "code",
   "execution_count": null,
   "id": "6a095487-a18a-4778-8e9a-33d65a4a0296",
   "metadata": {},
   "outputs": [],
   "source": [
    "# Automatic File Sorter"
   ]
  },
  {
   "cell_type": "code",
   "execution_count": 1,
   "id": "8abbbf71-31b5-4630-8316-cf6071b2c9f2",
   "metadata": {},
   "outputs": [],
   "source": [
    "import os, shutil"
   ]
  },
  {
   "cell_type": "code",
   "execution_count": 7,
   "id": "c736d091-aee0-4650-ad14-b68a0ccd7c53",
   "metadata": {},
   "outputs": [],
   "source": [
    "path=r\"C:/Users/sumit/Downloads/\"   \n",
    "# r is necessary for using forward slash"
   ]
  },
  {
   "cell_type": "code",
   "execution_count": 9,
   "id": "56d478ce-283f-459b-a5ec-a856ed0e0320",
   "metadata": {},
   "outputs": [],
   "source": [
    "file_name=os.listdir(path)    \n",
    "# It will store all the files which are in this location in the form of list"
   ]
  },
  {
   "cell_type": "code",
   "execution_count": 11,
   "id": "8eee9ef8-f158-4bc7-a380-4cf1d5f72772",
   "metadata": {},
   "outputs": [],
   "source": [
    "folder_names=['csv files','Image files','Word files','Pdf','C files']\n",
    "\n",
    "for loop in range(0,5):\n",
    "    if not os.path.exists(path + folder_names[loop]):   #check whether the folder_name is exists or not \n",
    "        os.makedirs(path + folder_names[loop])     #Make directory of this name\n",
    "\n",
    "for file in file_name:\n",
    "    if \".csv\" in file and not os.path.exists(path + \"csv files/\" + file): \n",
    "        # checking whether the given file is already present or not in the location by using this command((path + \"csv files/\" + file))\n",
    "        shutil.move(path + file, path + \"csv files/\" + file)\n",
    "    elif \".png\" in file and not os.path.exists(path + \"Image files/\" + file): \n",
    "        shutil.move(path + file, path + \"Image files/\" + file)\n",
    "    elif \".jpeg\" in file and not os.path.exists(path + \"Image files/\" + file): \n",
    "        shutil.move(path + file, path + \"Image files/\" + file)\n",
    "    elif \".docx\" in file and not os.path.exists(path + \"Word files/\" + file): \n",
    "        shutil.move(path + file, path + \"Word files/\" + file)\n",
    "    elif \".pdf\" in file and not os.path.exists(path + \"Pdf/\" + file): \n",
    "        shutil.move(path + file, path + \"Pdf/\" + file)\n",
    "    elif \".c\" in file and not os.path.exists(path + \"C files/\" + file): \n",
    "        shutil.move(path + file, path + \"C files/\" + file)"
   ]
  },
  {
   "cell_type": "code",
   "execution_count": null,
   "id": "4d4945db-c218-480b-a6bc-a93f6516ce44",
   "metadata": {},
   "outputs": [],
   "source": []
  }
 ],
 "metadata": {
  "kernelspec": {
   "display_name": "Python 3 (ipykernel)",
   "language": "python",
   "name": "python3"
  },
  "language_info": {
   "codemirror_mode": {
    "name": "ipython",
    "version": 3
   },
   "file_extension": ".py",
   "mimetype": "text/x-python",
   "name": "python",
   "nbconvert_exporter": "python",
   "pygments_lexer": "ipython3",
   "version": "3.11.7"
  }
 },
 "nbformat": 4,
 "nbformat_minor": 5
}
